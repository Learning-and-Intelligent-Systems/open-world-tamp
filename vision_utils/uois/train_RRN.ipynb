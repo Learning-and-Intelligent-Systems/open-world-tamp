{
 "cells": [
  {
   "cell_type": "markdown",
   "metadata": {},
   "source": [
    "# Train a Region Refinement Network"
   ]
  },
  {
   "cell_type": "code",
   "execution_count": null,
   "metadata": {},
   "outputs": [],
   "source": [
    "import os\n",
    "from time import time\n",
    "\n",
    "import numpy as np\n",
    "import matplotlib.pyplot as plt\n",
    "\n",
    "# My libraries\n",
    "import src.data_loader as data_loader\n",
    "import src.segmentation as segmentation\n",
    "import src.train as train\n",
    "import src.util.utilities as util_\n",
    "import src.util.flowlib as flowlib\n",
    "\n",
    "os.environ['CUDA_VISIBLE_DEVICES'] = \"0\" # TODO: Change this if you have more than 1 GPU"
   ]
  },
  {
   "cell_type": "markdown",
   "metadata": {},
   "source": [
    "# Example Dataset: TableTop Object Dataset (TOD)"
   ]
  },
  {
   "cell_type": "code",
   "execution_count": null,
   "metadata": {},
   "outputs": [],
   "source": [
    "TOD_filepath = '...' # TODO: change this to the dataset you want to train on\n",
    "data_loading_params = {\n",
    "    \n",
    "    'max_augmentation_tries' : 10,\n",
    "    \n",
    "    # Padding\n",
    "    'padding_alpha' : 1.0,\n",
    "    'padding_beta' : 4.0, \n",
    "    'min_padding_percentage' : 0.05, \n",
    "    \n",
    "    # Erosion/Dilation\n",
    "    'rate_of_morphological_transform' : 0.9,\n",
    "    'label_dilation_alpha' : 1.0,\n",
    "    'label_dilation_beta' : 19.0,\n",
    "    'morphology_max_iters' : 3,\n",
    "    \n",
    "    # Ellipses\n",
    "    'rate_of_ellipses' : 0.8,\n",
    "    'num_ellipses_mean' : 50,\n",
    "    'ellipse_gamma_base_shape' : 1.0, \n",
    "    'ellipse_gamma_base_scale' : 1.0,\n",
    "    'ellipse_size_percentage' : 0.025,\n",
    "    \n",
    "    # Translation\n",
    "    'rate_of_translation' : 0.7,\n",
    "    'translation_alpha' : 1.0,\n",
    "    'translation_beta' : 19.0,\n",
    "    'translation_percentage_min' : 0.05,\n",
    "    \n",
    "    # Rotation\n",
    "    'rate_of_rotation' : 0.7,\n",
    "    'rotation_angle_max' : 10, # in degrees\n",
    "    \n",
    "    # Label Cutting\n",
    "    'rate_of_label_cutting' : 0.3,\n",
    "    'cut_percentage_min' : 0.25,\n",
    "    'cut_percentage_max' : 0.5,\n",
    "    \n",
    "    # Label Adding\n",
    "    'rate_of_label_adding' : 0.5,\n",
    "    'add_percentage_min' : 0.1,\n",
    "    'add_percentage_max' : 0.4,\n",
    "    \n",
    "}\n",
    "dl = data_loader.get_Synth_RGBO_train_dataloader(TOD_filepath, data_loading_params, batch_size=16, num_workers=8, shuffle=True)"
   ]
  },
  {
   "cell_type": "markdown",
   "metadata": {},
   "source": [
    "## Train Region Refinement Network"
   ]
  },
  {
   "cell_type": "code",
   "execution_count": null,
   "metadata": {},
   "outputs": [],
   "source": [
    "rrn_config = {\n",
    "    \n",
    "    # Sizes\n",
    "    'feature_dim' : 64, # 32 would be normal\n",
    "    'img_H' : 224,\n",
    "    'img_W' : 224,\n",
    "    \n",
    "    # architecture parameters\n",
    "    'use_coordconv' : False,\n",
    "    \n",
    "}\n",
    "\n",
    "tb_dir = ... # TODO: change this to desired tensorboard directory\n",
    "rrn_training_config = {\n",
    "    \n",
    "    # Training parameters\n",
    "    'lr' : 1e-4, # learning rate\n",
    "    'iter_collect' : 20, # Collect results every _ iterations\n",
    "    'max_iters' : 100000,\n",
    "    \n",
    "    # Tensorboard stuff\n",
    "    'tb_directory' : tb_dir + 'Trainer_test' + '/',\n",
    "    'flush_secs' : 10, # Write tensorboard results every _ seconds\n",
    "}\n",
    "\n",
    "iter_num = 0\n",
    "rrn_training_config.update({\n",
    "    # Starting optimization from previous checkpoint\n",
    "    'load' : False,\n",
    "    'opt_filename' : os.path.join(rrn_training_config['tb_directory'],\n",
    "                                  f'RRNTrainer_RRNWrapper_{iter_num}_checkpoint.pth'),\n",
    "    'model_filename' : os.path.join(rrn_training_config['tb_directory'],\n",
    "                                    f'RRNTrainer_RRNWrapper_{iter_num}_checkpoint.pth'),\n",
    "})"
   ]
  },
  {
   "cell_type": "code",
   "execution_count": null,
   "metadata": {
    "scrolled": true
   },
   "outputs": [],
   "source": [
    "rrn = segmentation.RRNWrapper(rrn_config)\n",
    "rrn_trainer = train.RRNTrainer(rrn, rrn_training_config)"
   ]
  },
  {
   "cell_type": "code",
   "execution_count": null,
   "metadata": {},
   "outputs": [],
   "source": [
    "# Train the network for 1 epoch\n",
    "num_epochs = 1\n",
    "rrn_trainer.train(num_epochs, dl)\n",
    "rrn_trainer.save()"
   ]
  },
  {
   "cell_type": "markdown",
   "metadata": {},
   "source": [
    "## Plot some losses"
   ]
  },
  {
   "cell_type": "code",
   "execution_count": null,
   "metadata": {},
   "outputs": [],
   "source": [
    "%matplotlib inline\n",
    "fig = plt.figure(1, figsize=(15,3))\n",
    "total_subplots = 1\n",
    "starting_epoch = 0\n",
    "info_items = {k:v for (k,v) in rrn.infos.items() if k > starting_epoch}\n",
    "\n",
    "plt.subplot(1,total_subplots,1)\n",
    "losses = [x['loss'] for (k,x) in info_items.items()]\n",
    "plt.plot(info_items.keys(), losses)\n",
    "plt.xlabel('Iteration')\n",
    "plt.title('Losses. {0}'.format(losses[-1]))\n",
    "\n",
    "print(\"Number of iterations: {0}\".format(rrn.iter_num))"
   ]
  },
  {
   "cell_type": "markdown",
   "metadata": {},
   "source": [
    "## Visualize some stuff\n",
    "\n",
    "Run the network on a single batch, and plot the results"
   ]
  },
  {
   "cell_type": "code",
   "execution_count": null,
   "metadata": {},
   "outputs": [],
   "source": [
    "dl = data_loader.get_Synth_RGBO_train_dataloader(TOD_filepath, data_loading_params, batch_size=16, num_workers=8, shuffle=True)\n",
    "dl_iter = dl.__iter__()\n",
    "\n",
    "batch = next(dl_iter)\n",
    "rgb_imgs = util_.torch_to_numpy(batch['rgb'], is_standardized_image=True) # Shape: [N x H x W x 3]\n",
    "initial_masks = util_.torch_to_numpy(batch['initial_masks']) # Shape: [N x H x W]\n",
    "labels = util_.torch_to_numpy(batch['labels']) # Shape: [N x H x W]\n",
    "N, H, W = labels.shape[:3]"
   ]
  },
  {
   "cell_type": "code",
   "execution_count": null,
   "metadata": {},
   "outputs": [],
   "source": [
    "print(\"Number of images: {0}\".format(N))\n",
    "\n",
    "rrn.eval_mode()\n",
    "\n",
    "### Compute segmentation masks ###\n",
    "st_time = time()\n",
    "seg_masks = rrn.run_on_batch(batch)\n",
    "total_time = time() - st_time\n",
    "print('Total time taken for Segmentation: {0} seconds'.format(round(total_time, 3)))\n",
    "print('FPS: {0}'.format(round(N / total_time,3)))\n",
    "\n",
    "# Get segmentation masks in numpy\n",
    "seg_masks = seg_masks.cpu().numpy()"
   ]
  },
  {
   "cell_type": "code",
   "execution_count": null,
   "metadata": {},
   "outputs": [],
   "source": [
    "num_colors = 2\n",
    "fig_index = 1\n",
    "for i in range(N):\n",
    "    \n",
    "    fig = plt.figure(fig_index); fig_index += 1\n",
    "    fig.set_size_inches(20,5)\n",
    "\n",
    "    # Plot image\n",
    "    plt.subplot(1,4,1)\n",
    "    plt.imshow(rgb_imgs[i].astype(np.uint8))\n",
    "    plt.title('Image {0}'.format(i+1))\n",
    "    \n",
    "    # Plot initial mask\n",
    "    plt.subplot(1,4,2)\n",
    "    plt.imshow(util_.get_color_mask(initial_masks[i]))\n",
    "    plt.title(\"Initial Mask\")\n",
    "    \n",
    "    # Plot labels\n",
    "    plt.subplot(1,4,3)\n",
    "    plt.imshow(util_.get_color_mask(labels[i], nc=num_colors))\n",
    "    plt.title(f\"GT Masks\")\n",
    "    \n",
    "    # Plot prediction\n",
    "    plt.subplot(1,4,4)\n",
    "    plt.imshow(util_.get_color_mask(seg_masks[i,...], nc=num_colors))\n",
    "    plt.title(f\"Predicted Masks\")"
   ]
  }
 ],
 "metadata": {
  "kernelspec": {
   "display_name": "Python [conda env:ssc]",
   "language": "python",
   "name": "conda-env-ssc-py"
  },
  "language_info": {
   "codemirror_mode": {
    "name": "ipython",
    "version": 3
   },
   "file_extension": ".py",
   "mimetype": "text/x-python",
   "name": "python",
   "nbconvert_exporter": "python",
   "pygments_lexer": "ipython3",
   "version": "3.7.3"
  },
  "toc": {
   "base_numbering": 1,
   "nav_menu": {},
   "number_sections": true,
   "sideBar": true,
   "skip_h1_title": false,
   "title_cell": "Table of Contents",
   "title_sidebar": "Contents",
   "toc_cell": false,
   "toc_position": {},
   "toc_section_display": true,
   "toc_window_display": false
  }
 },
 "nbformat": 4,
 "nbformat_minor": 2
}
