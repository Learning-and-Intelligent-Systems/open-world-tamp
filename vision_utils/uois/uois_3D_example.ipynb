{
 "cells": [
  {
   "cell_type": "markdown",
   "metadata": {},
   "source": [
    "# Unseen Object Instance Segmentation"
   ]
  },
  {
   "cell_type": "code",
   "execution_count": null,
   "metadata": {},
   "outputs": [],
   "source": [
    "%matplotlib inline\n",
    "import os\n",
    "os.environ['CUDA_VISIBLE_DEVICES'] = \"0\" # TODO: Change this if you have more than 1 GPU\n",
    "\n",
    "import sys\n",
    "import json\n",
    "from time import time\n",
    "import glob\n",
    "\n",
    "import torch\n",
    "import numpy as np\n",
    "import matplotlib.pyplot as plt\n",
    "import cv2\n",
    "\n",
    "# My libraries. Ugly hack to import from sister directory\n",
    "import src.data_augmentation as data_augmentation\n",
    "import src.segmentation as segmentation\n",
    "import src.evaluation as evaluation\n",
    "import src.util.utilities as util_\n",
    "import src.util.flowlib as flowlib"
   ]
  },
  {
   "cell_type": "markdown",
   "metadata": {},
   "source": [
    "## Depth Seeding Network Parameters"
   ]
  },
  {
   "cell_type": "code",
   "execution_count": null,
   "metadata": {},
   "outputs": [],
   "source": [
    "dsn_config = {\n",
    "    \n",
    "    # Sizes\n",
    "    'feature_dim' : 64, # 32 would be normal\n",
    "\n",
    "    # Mean Shift parameters (for 3D voting)\n",
    "    'max_GMS_iters' : 10, \n",
    "    'epsilon' : 0.05, # Connected Components parameter\n",
    "    'sigma' : 0.02, # Gaussian bandwidth parameter\n",
    "    'num_seeds' : 200, # Used for MeanShift, but not BlurringMeanShift\n",
    "    'subsample_factor' : 5,\n",
    "    \n",
    "    # Misc\n",
    "    'min_pixels_thresh' : 500,\n",
    "    'tau' : 15.,\n",
    "    \n",
    "}"
   ]
  },
  {
   "cell_type": "markdown",
   "metadata": {},
   "source": [
    "## Region Refinement Network parameters"
   ]
  },
  {
   "cell_type": "code",
   "execution_count": null,
   "metadata": {},
   "outputs": [],
   "source": [
    "rrn_config = {\n",
    "    \n",
    "    # Sizes\n",
    "    'feature_dim' : 64, # 32 would be normal\n",
    "    'img_H' : 224,\n",
    "    'img_W' : 224,\n",
    "    \n",
    "    # architecture parameters\n",
    "    'use_coordconv' : False,\n",
    "    \n",
    "}"
   ]
  },
  {
   "cell_type": "markdown",
   "metadata": {},
   "source": [
    "# UOIS-Net-3D Parameters"
   ]
  },
  {
   "cell_type": "code",
   "execution_count": null,
   "metadata": {},
   "outputs": [],
   "source": [
    "uois3d_config = {\n",
    "    \n",
    "    # Padding for RGB Refinement Network\n",
    "    'padding_percentage' : 0.25,\n",
    "    \n",
    "    # Open/Close Morphology for IMP (Initial Mask Processing) module\n",
    "    'use_open_close_morphology' : True,\n",
    "    'open_close_morphology_ksize' : 9,\n",
    "    \n",
    "    # Largest Connected Component for IMP module\n",
    "    'use_largest_connected_component' : True,\n",
    "    \n",
    "}"
   ]
  },
  {
   "cell_type": "code",
   "execution_count": null,
   "metadata": {},
   "outputs": [],
   "source": [
    "checkpoint_dir = '/home/chrisxie/projects/uois/checkpoints/' # TODO: change this to directory of downloaded models\n",
    "dsn_filename = checkpoint_dir + 'DepthSeedingNetwork_3D_TOD_checkpoint.pth'\n",
    "rrn_filename = checkpoint_dir + 'RRN_OID_checkpoint.pth'\n",
    "uois3d_config['final_close_morphology'] = 'TableTop_v5' in rrn_filename\n",
    "uois_net_3d = segmentation.UOISNet3D(uois3d_config, \n",
    "                                     dsn_filename,\n",
    "                                     dsn_config,\n",
    "                                     rrn_filename,\n",
    "                                     rrn_config\n",
    "                                    )"
   ]
  },
  {
   "cell_type": "markdown",
   "metadata": {},
   "source": [
    "## Run on example OSD/OCID images\n",
    "\n",
    "We provide a few [OSD](https://www.acin.tuwien.ac.at/en/vision-for-robotics/software-tools/osd/) and [OCID](https://www.acin.tuwien.ac.at/en/vision-for-robotics/software-tools/object-clutter-indoor-dataset/) images and run the network on them. Evaluation metrics are shown for each of the images."
   ]
  },
  {
   "cell_type": "code",
   "execution_count": null,
   "metadata": {},
   "outputs": [],
   "source": [
    "example_images_dir = os.path.abspath('.') + '/example_images/'\n",
    "\n",
    "OSD_image_files = sorted(glob.glob(example_images_dir + '/OSD_*.npy'))\n",
    "OCID_image_files = sorted(glob.glob(example_images_dir + '/OCID_*.npy'))\n",
    "N = len(OSD_image_files) + len(OCID_image_files)\n",
    "\n",
    "rgb_imgs = np.zeros((N, 480, 640, 3), dtype=np.float32)\n",
    "xyz_imgs = np.zeros((N, 480, 640, 3), dtype=np.float32)\n",
    "label_imgs = np.zeros((N, 480, 640), dtype=np.uint8)\n",
    "\n",
    "for i, img_file in enumerate(OSD_image_files + OCID_image_files):\n",
    "    d = np.load(img_file, allow_pickle=True, encoding='bytes').item()\n",
    "    \n",
    "    # RGB\n",
    "    rgb_img = d['rgb']\n",
    "    rgb_imgs[i] = data_augmentation.standardize_image(rgb_img)\n",
    "\n",
    "    # XYZ\n",
    "    xyz_imgs[i] = d['xyz']\n",
    "\n",
    "    # Label\n",
    "    label_imgs[i] = d['label']\n",
    "    \n",
    "batch = {\n",
    "    'rgb' : data_augmentation.array_to_tensor(rgb_imgs),\n",
    "    'xyz' : data_augmentation.array_to_tensor(xyz_imgs),\n",
    "}"
   ]
  },
  {
   "cell_type": "code",
   "execution_count": null,
   "metadata": {},
   "outputs": [],
   "source": [
    "print(\"Number of images: {0}\".format(N))\n",
    "\n",
    "### Compute segmentation masks ###\n",
    "st_time = time()\n",
    "fg_masks, center_offsets, initial_masks, seg_masks = uois_net_3d.run_on_batch(batch)\n",
    "total_time = time() - st_time\n",
    "print('Total time taken for Segmentation: {0} seconds'.format(round(total_time, 3)))\n",
    "print('FPS: {0}'.format(round(N / total_time,3)))\n",
    "\n",
    "# Get results in numpy\n",
    "seg_masks = seg_masks.cpu().numpy()\n",
    "fg_masks = fg_masks.cpu().numpy()\n",
    "center_offsets = center_offsets.cpu().numpy().transpose(0,2,3,1)\n",
    "initial_masks = initial_masks.cpu().numpy()"
   ]
  },
  {
   "cell_type": "code",
   "execution_count": null,
   "metadata": {},
   "outputs": [],
   "source": [
    "rgb_imgs = util_.torch_to_numpy(batch['rgb'].cpu(), is_standardized_image=True)\n",
    "total_subplots = 6\n",
    "\n",
    "fig_index = 1\n",
    "for i in range(N):\n",
    "    \n",
    "    num_objs = max(np.unique(seg_masks[i,...]).max(), np.unique(label_imgs[i,...]).max()) + 1\n",
    "    \n",
    "    rgb = rgb_imgs[i].astype(np.uint8)\n",
    "    depth = xyz_imgs[i,...,2]\n",
    "    seg_mask_plot = util_.get_color_mask(seg_masks[i,...], nc=num_objs)\n",
    "    gt_masks = util_.get_color_mask(label_imgs[i,...], nc=num_objs)\n",
    "    \n",
    "    images = [rgb, depth, seg_mask_plot, gt_masks]\n",
    "    titles = [f'Image {i+1}', 'Depth',\n",
    "              f\"Refined Masks. #objects: {np.unique(seg_masks[i,...]).shape[0]-1}\",\n",
    "              f\"Ground Truth. #objects: {np.unique(label_imgs[i,...]).shape[0]-1}\"\n",
    "             ]\n",
    "    util_.subplotter(images, titles, fig_num=i+1)\n",
    "    \n",
    "    # Run evaluation metric\n",
    "    eval_metrics = evaluation.multilabel_metrics(seg_masks[i,...], label_imgs[i])\n",
    "    print(f\"Image {i+1} Metrics:\")\n",
    "    print(eval_metrics)"
   ]
  },
  {
   "cell_type": "code",
   "execution_count": null,
   "metadata": {},
   "outputs": [],
   "source": []
  }
 ],
 "metadata": {
  "kernelspec": {
   "display_name": "Python [conda env:uois3d]",
   "language": "python",
   "name": "conda-env-uois3d-py"
  },
  "language_info": {
   "codemirror_mode": {
    "name": "ipython",
    "version": 3
   },
   "file_extension": ".py",
   "mimetype": "text/x-python",
   "name": "python",
   "nbconvert_exporter": "python",
   "pygments_lexer": "ipython3",
   "version": "3.7.7"
  },
  "toc": {
   "base_numbering": 1,
   "nav_menu": {},
   "number_sections": true,
   "sideBar": true,
   "skip_h1_title": false,
   "title_cell": "Table of Contents",
   "title_sidebar": "Contents",
   "toc_cell": false,
   "toc_position": {
    "height": "calc(100% - 180px)",
    "left": "10px",
    "top": "150px",
    "width": "215px"
   },
   "toc_section_display": true,
   "toc_window_display": true
  }
 },
 "nbformat": 4,
 "nbformat_minor": 2
}
